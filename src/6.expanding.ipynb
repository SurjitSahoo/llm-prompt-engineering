{
 "cells": [
  {
   "attachments": {},
   "cell_type": "markdown",
   "metadata": {},
   "source": [
    "# Expanding\n",
    "\n",
    "With the help of LLMs we can expand or generate larger text from a smaller text, such as writing essays, emails, articles from a small text input on the topic.\n",
    "\n",
    "Here we will generate customer service emails that are tailored to each customer's review."
   ]
  },
  {
   "attachments": {},
   "cell_type": "markdown",
   "metadata": {},
   "source": [
    "## Setup\n",
    "Import necessary libraries and load openAI API key"
   ]
  },
  {
   "cell_type": "code",
   "execution_count": null,
   "metadata": {},
   "outputs": [],
   "source": [
    "import openai\n",
    "import os\n",
    "from dotenv import load_dotenv, find_dotenv\n",
    "\n",
    "load_dotenv(find_dotenv())\n",
    "\n",
    "openai.api_key = os.getenv(\"OPENAI_API_KEY\")"
   ]
  },
  {
   "attachments": {},
   "cell_type": "markdown",
   "metadata": {},
   "source": [
    "#### Helper function to get GPT response"
   ]
  },
  {
   "cell_type": "code",
   "execution_count": null,
   "metadata": {},
   "outputs": [],
   "source": [
    "def get_completion(prompt, model=\"gpt-3.5-turbo\", temperature=0):\n",
    "  messages = [{\"role\": \"user\", \"content\": prompt}]\n",
    "  response = openai.ChatCompletion.create(\n",
    "    model=model,\n",
    "    messages=messages,\n",
    "    temperature=temperature,  # degree of randomness of the model's output\n",
    "  )\n",
    "  return response.choices[0].message[\"content\"]"
   ]
  },
  {
   "attachments": {},
   "cell_type": "markdown",
   "metadata": {},
   "source": [
    "## Generate automated email reply for the customer tailored to his product-review"
   ]
  },
  {
   "cell_type": "code",
   "execution_count": null,
   "metadata": {},
   "outputs": [],
   "source": [
    "# infer the sentiment of the customer review from the review text\n",
    "# and write a professional customized email reply to the customer\n",
    "\n",
    "# review for a blender\n",
    "review = f\"\"\"\n",
    "So, they still had the 17 piece system on seasonal sale for around $49 in the month of November, about half off,\n",
    "but for some reason (call it price gouging) around the second week of December the prices all went up\n",
    "to about anywhere from between $70-$89 for the same system. And the 11 piece system went up around $10 or so\n",
    "in price also from the earlier sale price of $29. So it looks okay, but if you look at the base, the part\n",
    "where the blade locks into place doesn't look as good as in previous editions from a few years ago, but I\n",
    "plan to be very gentle with it (example, I crush very hard items like beans, ice, rice, etc. in the blender first\n",
    "then pulverize them in the serving size I want in the blender then switch to the whipping blade for a finer flour,\n",
    "and use the cross cutting blade first when making smoothies, then use the flat blade if I need them finer/less pulpy).\n",
    "Special tip when making smoothies, finely cut and freeze the fruits and vegetables (if using spinach-lightly stew\n",
    "soften the \\ spinach then freeze until ready for use-and if making sorbet, use a small to medium sized food processor)\n",
    "that you plan to use that way you can avoid adding so much ice if at all-when making your smoothie. After about a year,\n",
    "the motor was making a funny noise. I called customer service but the warranty expired already, \n",
    "so I had to buy another one. FYI: The overall quality has gone done in these types of products,\n",
    "so they are kind of counting on brand recognition and consumer loyalty to maintain sales. Got it in about two days.\n",
    "\"\"\"\n",
    "\n",
    "prompt = f\"\"\"\n",
    "You are a customer service AI assistant.\n",
    "\n",
    "Your task is to send an email reply to a valued customer.\n",
    "Given the customer review delimited by ```, First find the sentiment of the review then,\n",
    "generate a reply to thank the customer for their review.If the sentiment is positive or neutral, thank them for\n",
    "their review. If the sentiment is negative, apologize and suggest that they can reach out to customer service. \n",
    "\n",
    "Also mention the sentiment you found from the review in the email.\n",
    "\n",
    "Make sure to use specific details from the review.\n",
    "\n",
    "Write in a concise and professional tone.\n",
    "Sign the email as `AI customer agent`.\n",
    "Customer review: ```{review}```\n",
    "\"\"\"\n",
    "response = get_completion(prompt)\n",
    "print(response)"
   ]
  },
  {
   "attachments": {},
   "cell_type": "markdown",
   "metadata": {},
   "source": [
    "## Creative Response\n",
    "\n",
    "The parameter \"temperature\" for the model determines degree of randomness in the responses. So far we have always been using 0.\n",
    "With temperature zero, we will always get the same response if the input prompt is same!\n",
    "\n",
    "Most people's fav food is \"Pizza\", second fav is \"Shushi\" and the third fav is \"Tacos\".  \n",
    "So if we type, \"My favorite food is\", then the model will always respond with \"Pizza\" as the next suggested word, if the temperature is set to zero.  \n",
    "If we set it to 0.3, it might suggest \"Pizza\" or \"Shushi\"  \n",
    "If we set it to 0.7, it might suggest \"Pizza\" or \"Shushi\" or \"Tacos\"  \n",
    "The higher the temperature, the more random the responses become!\n",
    "\n",
    "#### Let's try the previous prompt again with higher temperature"
   ]
  },
  {
   "cell_type": "code",
   "execution_count": null,
   "metadata": {},
   "outputs": [],
   "source": [
    "prompt = f\"\"\"\n",
    "You are a customer service AI assistant.\n",
    "\n",
    "Your task is to send an email reply to a valued customer.\n",
    "Given the customer review delimited by ```, First find the sentiment of the review then,\n",
    "generate a reply to thank the customer for their review.If the sentiment is positive or neutral, thank them for\n",
    "their review. If the sentiment is negative, apologize and suggest that they can reach out to customer service. \n",
    "\n",
    "Also mention the sentiment you found from the review in the email.\n",
    "\n",
    "Make sure to use specific details from the review.\n",
    "\n",
    "Write in a concise and professional tone.\n",
    "Sign the email as `AI customer agent`.\n",
    "Customer review: ```{review}```\n",
    "\"\"\"\n",
    "response = get_completion(prompt, temperature=0.7)\n",
    "print(response)"
   ]
  }
 ],
 "metadata": {
  "kernelspec": {
   "display_name": "python-env",
   "language": "python",
   "name": "python3"
  },
  "language_info": {
   "name": "python",
   "version": "3.11.3"
  },
  "orig_nbformat": 4
 },
 "nbformat": 4,
 "nbformat_minor": 2
}
