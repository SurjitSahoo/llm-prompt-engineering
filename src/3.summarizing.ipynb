{
 "cells": [
  {
   "attachments": {},
   "cell_type": "markdown",
   "metadata": {},
   "source": [
    "# Summarizing\n",
    "\n",
    "There are too much text in the internet, and nobody has time to read all of it. This notebook explores ways to summarize texts focusing on specific desired topics, so that we don't loose the topic of interest.\n"
   ]
  },
  {
   "attachments": {},
   "cell_type": "markdown",
   "metadata": {},
   "source": [
    "## Setup\n",
    "\n",
    "Import necessary libraries and load openAI API key\n"
   ]
  },
  {
   "cell_type": "code",
   "execution_count": null,
   "metadata": {},
   "outputs": [],
   "source": [
    "import openai\n",
    "import os\n",
    "from dotenv import load_dotenv, find_dotenv\n",
    "\n",
    "load_dotenv(find_dotenv())\n",
    "\n",
    "openai.api_key = os.getenv(\"OPENAI_API_KEY\")"
   ]
  },
  {
   "attachments": {},
   "cell_type": "markdown",
   "metadata": {},
   "source": [
    "#### Helper function to get GPT response\n"
   ]
  },
  {
   "cell_type": "code",
   "execution_count": null,
   "metadata": {},
   "outputs": [],
   "source": [
    "def get_completion(prompt, model=\"gpt-3.5-turbo\"):\n",
    "  messages = [{\"role\": \"user\", \"content\": prompt}]\n",
    "  response = openai.ChatCompletion.create(\n",
    "    model=model,\n",
    "    messages=messages,\n",
    "    temperature=0,  # degree of randomness of the model's output\n",
    "  )\n",
    "  return response.choices[0].message[\"content\"]"
   ]
  },
  {
   "attachments": {},
   "cell_type": "markdown",
   "metadata": {},
   "source": [
    "## Text to summarize\n"
   ]
  },
  {
   "cell_type": "code",
   "execution_count": null,
   "metadata": {},
   "outputs": [],
   "source": [
    "prod_review = \"\"\"\n",
    "Got this panda plush toy for my daughter's birthday, who loves it and takes it everywhere. It's soft and\n",
    "super cute, and its face has a friendly look. It's a bit small for what I paid though. I think there might\n",
    "be other options that are bigger for the same price. It arrived a day earlier than expected, so I got to\n",
    "play with it myself before I gave it to her.\n",
    "\"\"\""
   ]
  },
  {
   "attachments": {},
   "cell_type": "markdown",
   "metadata": {},
   "source": [
    "#### Summarize with a word/sentence/character limit\n"
   ]
  },
  {
   "cell_type": "code",
   "execution_count": null,
   "metadata": {},
   "outputs": [],
   "source": [
    "prompt = f\"\"\"\n",
    "Your task is to generate a short summary of a product review from an e-commerce site.\n",
    "\n",
    "Summarize the review below, delimited by triple backticks, in at most 30 words.\n",
    "\n",
    "Review: ```{prod_review}```\n",
    "\"\"\"\n",
    "\n",
    "response = get_completion(prompt)\n",
    "print(response)"
   ]
  },
  {
   "attachments": {},
   "cell_type": "markdown",
   "metadata": {},
   "source": [
    "#### Summarize with a focus on shipping and delivery\n"
   ]
  },
  {
   "cell_type": "code",
   "execution_count": null,
   "metadata": {},
   "outputs": [],
   "source": [
    "prompt = f\"\"\"\n",
    "Your task is to generate a short summary of a product review from an e-commerce site\n",
    "to give feedback to the Shipping department. \n",
    "\n",
    "Summarize the review below, delimited by triple backticks, in at most 30 words,\n",
    "focusing on any aspects that mention shipping and delivery of the product.\n",
    "\n",
    "Review: ```{prod_review}```\n",
    "\"\"\"\n",
    "\n",
    "response = get_completion(prompt)\n",
    "print(response)"
   ]
  },
  {
   "attachments": {},
   "cell_type": "markdown",
   "metadata": {},
   "source": [
    "#### Summarize with a focus on price and value\n"
   ]
  },
  {
   "cell_type": "code",
   "execution_count": null,
   "metadata": {},
   "outputs": [],
   "source": [
    "prompt = f\"\"\"\n",
    "Your task is to generate a short summary of a product review from an e-commerce site\n",
    "to give feedback to the pricing department, responsible for determining the price of the product.\n",
    "\n",
    "Summarize the review below, delimited by triple backticks, in at most 30 words,\n",
    "focusing on any aspects that are relevant to the price and perceived value.\n",
    "\n",
    "Review: ```{prod_review}```\n",
    "\"\"\"\n",
    "\n",
    "response = get_completion(prompt)\n",
    "print(response)"
   ]
  },
  {
   "attachments": {},
   "cell_type": "markdown",
   "metadata": {},
   "source": [
    "> ### All these summaries include topics that are not related to the topic of focus.\n",
    "\n",
    "#### Try \"extract\" instead of \"summarize\"\n"
   ]
  },
  {
   "cell_type": "code",
   "execution_count": null,
   "metadata": {},
   "outputs": [],
   "source": [
    "prompt = f\"\"\"\n",
    "Your task is to extract relevant information from a product review from an e-commerce site\n",
    "to give feedback to the Shipping department. \n",
    "\n",
    "From the review below, delimited by triple quotes extract the information relevant to shipping and\n",
    "delivery, in at most 30 words.\n",
    "\n",
    "Review: ```{prod_review}```\n",
    "\"\"\"\n",
    "\n",
    "response = get_completion(prompt)\n",
    "print(response)"
   ]
  },
  {
   "attachments": {},
   "cell_type": "markdown",
   "metadata": {},
   "source": [
    "### Summarize multiple product reviews\n"
   ]
  },
  {
   "cell_type": "code",
   "execution_count": null,
   "metadata": {},
   "outputs": [],
   "source": [
    "review_1 = prod_review\n",
    "\n",
    "# review for a standing lamp\n",
    "review_2 = \"\"\"\n",
    "Needed a nice lamp for my bedroom, and this one had additional storage and not too high of a price\n",
    "point. Got it fast - arrived in 2 days. The string to the lamp broke during the transit and the company\n",
    "happily sent over a new one. Came within a few days as well. It was easy to put together. Then I had a\n",
    "missing part, so I contacted their support and they very quickly got me the missing piece! Seems to me\n",
    "to be a great company that cares about their customers and products.\n",
    "\"\"\"\n",
    "\n",
    "# review for an electric toothbrush\n",
    "review_3 = \"\"\"\n",
    "My dental hygienist recommended an electric toothbrush, which is why I got this. The battery life seems to be\n",
    "pretty impressive so far. After initial charging and leaving the charger plugged in for the first week to\n",
    "condition the battery, I've unplugged the charger and been using it for twice daily brushing for the last\n",
    "3 weeks all on the same charge. But the toothbrush head is too small. I’ve seen baby toothbrushes bigger than\n",
    "this one. I wish the head was bigger with different length bristles to get between teeth better because\n",
    "this one doesn’t.  Overall if you can get this one around the $50 mark, it's a good deal. The manufacturer's\n",
    "replacements heads are pretty expensive, but you can get generic ones that're more reasonably priced. This\n",
    "toothbrush makes me feel like I've been to the dentist every day. My teeth feel sparkly clean!\n",
    "\"\"\"\n",
    "\n",
    "# review for a blender\n",
    "review_4 = \"\"\"\n",
    "So, they still had the 17 piece system on seasonal sale for around $49 in the month of November, about\n",
    "half off, but for some reason (call it price gouging) around the second week of December the prices all went\n",
    "up to about anywhere from between $70-$89 for the same system. And the 11 piece system went up around $10 or\n",
    "so in price also from the earlier sale price of $29. So it looks okay, but if you look at the base, the part\n",
    "where the blade locks into place doesn’t look as good as in previous editions from a few years ago, but I\n",
    "plan to be very gentle with it (example, I crush very hard items like beans, ice, rice, etc. in the\n",
    "blender first then pulverize them in the serving size I want in the blender then switch to the whipping\n",
    "blade for a finer flour, and use the cross cutting blade first when making smoothies, then use the flat blade\n",
    "if I need them finer/less pulpy). Special tip when making smoothies, finely cut and freeze the fruits and\n",
    "vegetables (if using spinach-lightly stew soften the spinach then freeze until ready for use-and if making\n",
    "sorbet, use a small to medium sized food processor) that you plan to use that way you can avoid adding so\n",
    "much ice if at all-when making your smoothie. After about a year, the motor was making a funny noise.\n",
    "I called customer service but the warranty expired already, so I had to buy another one. FYI: The overall\n",
    "quality has gone done in these types of products, so they are kind of counting on brand recognition and\n",
    "consumer loyalty to maintain sales. Got it in about two days.\n",
    "\"\"\"\n",
    "\n",
    "reviews = [review_1, review_2, review_3, review_4]\n",
    "\n",
    "for i in range(len(reviews)):\n",
    "  prompt = f\"\"\"\n",
    "  Your task is to generate a short summary of a product review from an e-commerce site. \n",
    "\n",
    "  Summarize the review below, delimited by triple backticks in at most 20 words. \n",
    "\n",
    "  Review: ```{reviews[i]}```\n",
    "  \"\"\"\n",
    "\n",
    "  response = get_completion(prompt)\n",
    "  print(i, response, \"\\n\")"
   ]
  }
 ],
 "metadata": {
  "kernelspec": {
   "display_name": "python-env",
   "language": "python",
   "name": "python3"
  },
  "language_info": {
   "name": "python",
   "version": "3.11.3"
  },
  "orig_nbformat": 4
 },
 "nbformat": 4,
 "nbformat_minor": 2
}
